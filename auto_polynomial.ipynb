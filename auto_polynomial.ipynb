{
  "nbformat": 4,
  "nbformat_minor": 0,
  "metadata": {
    "colab": {
      "provenance": []
    },
    "kernelspec": {
      "name": "python3",
      "display_name": "Python 3"
    },
    "language_info": {
      "name": "python"
    }
  },
  "cells": [
    {
      "cell_type": "markdown",
      "source": [
        "#Automotive Data Modeling: MPG vs. Horsepower\n",
        "By Benjamin Cabrera & Alexander Ohye"
      ],
      "metadata": {
        "id": "JNjahUYDccZW"
      }
    },
    {
      "cell_type": "markdown",
      "source": [
        "____________________________________________________________________________________________________________________________________________________________________"
      ],
      "metadata": {
        "id": "y4fyBklmPPR0"
      }
    },
    {
      "cell_type": "markdown",
      "source": [
        "#Introduction\n",
        "\n",
        "This project explores how automotive features can be used to predict fuel efficiency (miles per gallon, mpg) using polynomial regression techniques.\n",
        "\n",
        "The dataset contains variables such as horsepower, cylinders, displacement, weight, acceleration, year, and origin.\n",
        "\n",
        "The goal is to apply polynomial regression with different degrees (2, 3, and 4) to model the nonlinear relationship between horsepower and mpg, evaluate model performance with cross-validation, and select the degree that best balances accuracy and generalization.\n",
        "\n",
        "A data frame with 392 observations on the following variables:\n",
        "\n",
        "- mpg: Miles per gallon (target variable)\n",
        "\n",
        "- cylinders: Number of cylinders\n",
        "\n",
        "- displacement: Engine displacement (cubic inches)\n",
        "\n",
        "- horsepower: Engine horsepower\n",
        "\n",
        "- weight: Vehicle weight (lbs)\n",
        "\n",
        "- acceleration: Time to accelerate from 0–60 mph (seconds)\n",
        "\n",
        "- year: Model year\n",
        "\n",
        "- origin: Origin of car (USA, Europe, Japan)\n",
        "\n",
        "- name: Car name (string identifier, dropped in this project)\n",
        "\n",
        "The outcome variable to predict is mpg.\n"
      ],
      "metadata": {
        "id": "g4BpUftRdr67"
      }
    },
    {
      "cell_type": "code",
      "source": [
        "# Import all of the packages needed for the assignment\n",
        "import numpy as np\n",
        "import pandas as pd\n",
        "import matplotlib.pyplot as plt\n",
        "from sklearn.linear_model import LinearRegression\n",
        "from sklearn.model_selection import train_test_split, cross_val_score, KFold, GridSearchCV\n",
        "from sklearn.metrics import mean_squared_error, root_mean_squared_error, r2_score\n",
        "from sklearn.linear_model import Ridge, Lasso\n",
        "from sklearn.preprocessing import StandardScaler, PolynomialFeatures\n",
        "from sklearn.pipeline import Pipeline"
      ],
      "metadata": {
        "id": "oF_-anPak7kM"
      },
      "execution_count": null,
      "outputs": []
    },
    {
      "cell_type": "code",
      "execution_count": null,
      "metadata": {
        "id": "fhSGBqdncba9",
        "collapsed": true,
        "colab": {
          "base_uri": "https://localhost:8080/"
        },
        "outputId": "316b188b-6ba7-4b4d-866b-2b9b91f41a99"
      },
      "outputs": [
        {
          "output_type": "stream",
          "name": "stdout",
          "text": [
            "Mounted at /content/drive/\n"
          ]
        }
      ],
      "source": [
        "# Connect to google drive\n",
        "from google.colab import drive\n",
        "drive.mount('/content/drive/')"
      ]
    },
    {
      "cell_type": "code",
      "source": [
        "# Importing auto dataset"
      ],
      "metadata": {
        "id": "yBZ0kbKAhtLc"
      },
      "execution_count": null,
      "outputs": []
    },
    {
      "cell_type": "code",
      "source": [
        "path_auto_data = \"/content/drive/MyDrive/Colab Notebooks/Datasets_ML/Auto_ISLR.csv\""
      ],
      "metadata": {
        "id": "ZUaf3HmZ-9j0"
      },
      "execution_count": null,
      "outputs": []
    },
    {
      "cell_type": "code",
      "source": [
        "auto_df = pd.read_csv(path_auto_data)"
      ],
      "metadata": {
        "id": "VicXXBOc-9e1"
      },
      "execution_count": null,
      "outputs": []
    },
    {
      "cell_type": "code",
      "source": [
        "auto_df.info()"
      ],
      "metadata": {
        "colab": {
          "base_uri": "https://localhost:8080/"
        },
        "id": "e5e-LCel-9aK",
        "outputId": "0e097976-2fd0-4912-e504-e570962bcdf9"
      },
      "execution_count": null,
      "outputs": [
        {
          "output_type": "stream",
          "name": "stdout",
          "text": [
            "<class 'pandas.core.frame.DataFrame'>\n",
            "RangeIndex: 392 entries, 0 to 391\n",
            "Data columns (total 9 columns):\n",
            " #   Column        Non-Null Count  Dtype  \n",
            "---  ------        --------------  -----  \n",
            " 0   mpg           392 non-null    float64\n",
            " 1   cylinders     392 non-null    int64  \n",
            " 2   displacement  392 non-null    float64\n",
            " 3   horsepower    392 non-null    int64  \n",
            " 4   weight        392 non-null    int64  \n",
            " 5   acceleration  392 non-null    float64\n",
            " 6   year          392 non-null    int64  \n",
            " 7   origin        392 non-null    int64  \n",
            " 8   name          392 non-null    object \n",
            "dtypes: float64(3), int64(5), object(1)\n",
            "memory usage: 27.7+ KB\n"
          ]
        }
      ]
    },
    {
      "cell_type": "markdown",
      "source": [
        "Dropped the columns 'name' and 'origin' because they do not bring any value to the analysis."
      ],
      "metadata": {
        "id": "ECvWcKaChnfY"
      }
    },
    {
      "cell_type": "code",
      "source": [
        "# Dropping columns: name and origin"
      ],
      "metadata": {
        "id": "Q8JcSVM9hv_Q"
      },
      "execution_count": null,
      "outputs": []
    },
    {
      "cell_type": "code",
      "source": [
        "# Preprocessing\n",
        "# Removing 'name'\n",
        "\n",
        "auto_df.drop (['name'], axis = 1, inplace = True)"
      ],
      "metadata": {
        "id": "FhuLwZj4_MTW"
      },
      "execution_count": null,
      "outputs": []
    },
    {
      "cell_type": "code",
      "source": [
        "# Preprocessing\n",
        "# Removing 'origin'\n",
        "\n",
        "auto_df.drop (['origin'], axis = 1, inplace = True)"
      ],
      "metadata": {
        "id": "xuSws7Kh_Nxp"
      },
      "execution_count": null,
      "outputs": []
    },
    {
      "cell_type": "code",
      "source": [
        "auto_df.info()"
      ],
      "metadata": {
        "colab": {
          "base_uri": "https://localhost:8080/"
        },
        "id": "SAZ3J-Vr_g_u",
        "outputId": "21dedb00-2d15-4127-d837-c551794c7430"
      },
      "execution_count": null,
      "outputs": [
        {
          "output_type": "stream",
          "name": "stdout",
          "text": [
            "<class 'pandas.core.frame.DataFrame'>\n",
            "RangeIndex: 392 entries, 0 to 391\n",
            "Data columns (total 7 columns):\n",
            " #   Column        Non-Null Count  Dtype  \n",
            "---  ------        --------------  -----  \n",
            " 0   mpg           392 non-null    float64\n",
            " 1   cylinders     392 non-null    int64  \n",
            " 2   displacement  392 non-null    float64\n",
            " 3   horsepower    392 non-null    int64  \n",
            " 4   weight        392 non-null    int64  \n",
            " 5   acceleration  392 non-null    float64\n",
            " 6   year          392 non-null    int64  \n",
            "dtypes: float64(3), int64(4)\n",
            "memory usage: 21.6 KB\n"
          ]
        }
      ]
    },
    {
      "cell_type": "markdown",
      "source": [
        "____________________________________________________________________________________________________________________________________________________________________"
      ],
      "metadata": {
        "id": "jXzxTCACO-8c"
      }
    },
    {
      "cell_type": "markdown",
      "source": [
        "**a)** Decided to fit a polynomial with 'horsepower' as the predictor. Used degrees 2, 3, and 4, and selected the best option among them.\n",
        "\n",
        "Justified my choice by showing the results of my analysis."
      ],
      "metadata": {
        "id": "cIevNqOEh3cW"
      }
    },
    {
      "cell_type": "code",
      "source": [
        "# variable with all the predictors\n",
        "X_all_auto = auto_df.drop('mpg', axis=1)"
      ],
      "metadata": {
        "id": "3Fdai_MCE3Nn"
      },
      "execution_count": null,
      "outputs": []
    },
    {
      "cell_type": "code",
      "source": [
        "# variable with outcome\n",
        "y_auto = auto_df['mpg']"
      ],
      "metadata": {
        "id": "egr9m9lOE3I7"
      },
      "execution_count": null,
      "outputs": []
    },
    {
      "cell_type": "code",
      "source": [
        "# split the dataset\n",
        "X_train_auto, X_test_auto, y_train_auto, y_test_auto = train_test_split(X_all_auto, y_auto, test_size=0.2, random_state=1)"
      ],
      "metadata": {
        "id": "bDZLkPvDE3Dr"
      },
      "execution_count": null,
      "outputs": []
    },
    {
      "cell_type": "code",
      "source": [
        "cv_set_up = KFold (n_splits=10, shuffle=True, random_state=1)"
      ],
      "metadata": {
        "id": "l-2Jm6AhHiwK"
      },
      "execution_count": null,
      "outputs": []
    },
    {
      "cell_type": "code",
      "source": [
        "predictor_to_test = 'horsepower'"
      ],
      "metadata": {
        "id": "pKhsOmTj_2ZX"
      },
      "execution_count": null,
      "outputs": []
    },
    {
      "cell_type": "code",
      "source": [
        "degrees_to_test = [2, 3, 4]"
      ],
      "metadata": {
        "id": "lcawA9Yj_2RC"
      },
      "execution_count": null,
      "outputs": []
    },
    {
      "cell_type": "code",
      "source": [
        "cv_for_diff_degrees_hp_df = pd.DataFrame(columns= ['Degree_Poly', 'Mean_CV_MSE'])"
      ],
      "metadata": {
        "id": "a2QtlqSL_2Kz"
      },
      "execution_count": null,
      "outputs": []
    },
    {
      "cell_type": "code",
      "source": [
        "for i in degrees_to_test:\n",
        "\n",
        "    # Fit polynomials of different degrees according to i\n",
        "    poly_loop_pipeline = Pipeline([\n",
        "    ('scaler', StandardScaler()),\n",
        "    ('poly_features', PolynomialFeatures(degree=i)) ]) # degree i (changes with loop iterations)\n",
        "\n",
        "    X_poly_degree_i = poly_loop_pipeline.fit_transform(X_train_auto[predictor_to_test].values.reshape(-1, 1))\n",
        "\n",
        "    # Apply CV with polynomial of degree i\n",
        "    mse_scores_cv = - cross_val_score(LinearRegression(), X_poly_degree_i, y_train_auto, scoring='neg_mean_squared_error', cv = cv_set_up )\n",
        "    mean_mse = np.round ( np.mean(mse_scores_cv), 2)\n",
        "\n",
        "    cv_for_diff_degrees_hp_df = pd.concat([cv_for_diff_degrees_hp_df, pd.DataFrame({'Degree_Poly': [i],\n",
        "                                                       'Mean_CV_MSE': [mean_mse]})], ignore_index=True)\n",
        "\n",
        "\n",
        "# After the loop, add 'percent_change' as a new column to the data frame\n",
        "\n",
        "cv_for_diff_degrees_hp_df['Pct_change_from_previous'] = np.round ( cv_for_diff_degrees_hp_df['Mean_CV_MSE'].pct_change() * 100, 2)"
      ],
      "metadata": {
        "colab": {
          "base_uri": "https://localhost:8080/"
        },
        "id": "AyM_ZzQx_2ID",
        "outputId": "e848188c-8235-4399-c858-1bd98707efe1"
      },
      "execution_count": null,
      "outputs": [
        {
          "output_type": "stream",
          "name": "stderr",
          "text": [
            "/tmp/ipython-input-3296839361.py:14: FutureWarning: The behavior of DataFrame concatenation with empty or all-NA entries is deprecated. In a future version, this will no longer exclude empty or all-NA columns when determining the result dtypes. To retain the old behavior, exclude the relevant entries before the concat operation.\n",
            "  cv_for_diff_degrees_hp_df = pd.concat([cv_for_diff_degrees_hp_df, pd.DataFrame({'Degree_Poly': [i],\n"
          ]
        }
      ]
    },
    {
      "cell_type": "code",
      "source": [
        "cv_for_diff_degrees_hp_df"
      ],
      "metadata": {
        "colab": {
          "base_uri": "https://localhost:8080/",
          "height": 143
        },
        "id": "_q-VT1BPHKw9",
        "outputId": "0d59ac8d-6fa1-46ac-ca7b-7ac1fbdcc0c2"
      },
      "execution_count": null,
      "outputs": [
        {
          "output_type": "execute_result",
          "data": {
            "text/plain": [
              "  Degree_Poly  Mean_CV_MSE  Pct_change_from_previous\n",
              "0           2        18.81                       NaN\n",
              "1           3        18.93                      0.64\n",
              "2           4        19.43                      2.64"
            ],
            "text/html": [
              "\n",
              "  <div id=\"df-b54648e9-041d-4dee-815e-080436f6f2bd\" class=\"colab-df-container\">\n",
              "    <div>\n",
              "<style scoped>\n",
              "    .dataframe tbody tr th:only-of-type {\n",
              "        vertical-align: middle;\n",
              "    }\n",
              "\n",
              "    .dataframe tbody tr th {\n",
              "        vertical-align: top;\n",
              "    }\n",
              "\n",
              "    .dataframe thead th {\n",
              "        text-align: right;\n",
              "    }\n",
              "</style>\n",
              "<table border=\"1\" class=\"dataframe\">\n",
              "  <thead>\n",
              "    <tr style=\"text-align: right;\">\n",
              "      <th></th>\n",
              "      <th>Degree_Poly</th>\n",
              "      <th>Mean_CV_MSE</th>\n",
              "      <th>Pct_change_from_previous</th>\n",
              "    </tr>\n",
              "  </thead>\n",
              "  <tbody>\n",
              "    <tr>\n",
              "      <th>0</th>\n",
              "      <td>2</td>\n",
              "      <td>18.81</td>\n",
              "      <td>NaN</td>\n",
              "    </tr>\n",
              "    <tr>\n",
              "      <th>1</th>\n",
              "      <td>3</td>\n",
              "      <td>18.93</td>\n",
              "      <td>0.64</td>\n",
              "    </tr>\n",
              "    <tr>\n",
              "      <th>2</th>\n",
              "      <td>4</td>\n",
              "      <td>19.43</td>\n",
              "      <td>2.64</td>\n",
              "    </tr>\n",
              "  </tbody>\n",
              "</table>\n",
              "</div>\n",
              "    <div class=\"colab-df-buttons\">\n",
              "\n",
              "  <div class=\"colab-df-container\">\n",
              "    <button class=\"colab-df-convert\" onclick=\"convertToInteractive('df-b54648e9-041d-4dee-815e-080436f6f2bd')\"\n",
              "            title=\"Convert this dataframe to an interactive table.\"\n",
              "            style=\"display:none;\">\n",
              "\n",
              "  <svg xmlns=\"http://www.w3.org/2000/svg\" height=\"24px\" viewBox=\"0 -960 960 960\">\n",
              "    <path d=\"M120-120v-720h720v720H120Zm60-500h600v-160H180v160Zm220 220h160v-160H400v160Zm0 220h160v-160H400v160ZM180-400h160v-160H180v160Zm440 0h160v-160H620v160ZM180-180h160v-160H180v160Zm440 0h160v-160H620v160Z\"/>\n",
              "  </svg>\n",
              "    </button>\n",
              "\n",
              "  <style>\n",
              "    .colab-df-container {\n",
              "      display:flex;\n",
              "      gap: 12px;\n",
              "    }\n",
              "\n",
              "    .colab-df-convert {\n",
              "      background-color: #E8F0FE;\n",
              "      border: none;\n",
              "      border-radius: 50%;\n",
              "      cursor: pointer;\n",
              "      display: none;\n",
              "      fill: #1967D2;\n",
              "      height: 32px;\n",
              "      padding: 0 0 0 0;\n",
              "      width: 32px;\n",
              "    }\n",
              "\n",
              "    .colab-df-convert:hover {\n",
              "      background-color: #E2EBFA;\n",
              "      box-shadow: 0px 1px 2px rgba(60, 64, 67, 0.3), 0px 1px 3px 1px rgba(60, 64, 67, 0.15);\n",
              "      fill: #174EA6;\n",
              "    }\n",
              "\n",
              "    .colab-df-buttons div {\n",
              "      margin-bottom: 4px;\n",
              "    }\n",
              "\n",
              "    [theme=dark] .colab-df-convert {\n",
              "      background-color: #3B4455;\n",
              "      fill: #D2E3FC;\n",
              "    }\n",
              "\n",
              "    [theme=dark] .colab-df-convert:hover {\n",
              "      background-color: #434B5C;\n",
              "      box-shadow: 0px 1px 3px 1px rgba(0, 0, 0, 0.15);\n",
              "      filter: drop-shadow(0px 1px 2px rgba(0, 0, 0, 0.3));\n",
              "      fill: #FFFFFF;\n",
              "    }\n",
              "  </style>\n",
              "\n",
              "    <script>\n",
              "      const buttonEl =\n",
              "        document.querySelector('#df-b54648e9-041d-4dee-815e-080436f6f2bd button.colab-df-convert');\n",
              "      buttonEl.style.display =\n",
              "        google.colab.kernel.accessAllowed ? 'block' : 'none';\n",
              "\n",
              "      async function convertToInteractive(key) {\n",
              "        const element = document.querySelector('#df-b54648e9-041d-4dee-815e-080436f6f2bd');\n",
              "        const dataTable =\n",
              "          await google.colab.kernel.invokeFunction('convertToInteractive',\n",
              "                                                    [key], {});\n",
              "        if (!dataTable) return;\n",
              "\n",
              "        const docLinkHtml = 'Like what you see? Visit the ' +\n",
              "          '<a target=\"_blank\" href=https://colab.research.google.com/notebooks/data_table.ipynb>data table notebook</a>'\n",
              "          + ' to learn more about interactive tables.';\n",
              "        element.innerHTML = '';\n",
              "        dataTable['output_type'] = 'display_data';\n",
              "        await google.colab.output.renderOutput(dataTable, element);\n",
              "        const docLink = document.createElement('div');\n",
              "        docLink.innerHTML = docLinkHtml;\n",
              "        element.appendChild(docLink);\n",
              "      }\n",
              "    </script>\n",
              "  </div>\n",
              "\n",
              "\n",
              "    <div id=\"df-f9192a99-f752-411e-b78d-8ddc2902e8f9\">\n",
              "      <button class=\"colab-df-quickchart\" onclick=\"quickchart('df-f9192a99-f752-411e-b78d-8ddc2902e8f9')\"\n",
              "                title=\"Suggest charts\"\n",
              "                style=\"display:none;\">\n",
              "\n",
              "<svg xmlns=\"http://www.w3.org/2000/svg\" height=\"24px\"viewBox=\"0 0 24 24\"\n",
              "     width=\"24px\">\n",
              "    <g>\n",
              "        <path d=\"M19 3H5c-1.1 0-2 .9-2 2v14c0 1.1.9 2 2 2h14c1.1 0 2-.9 2-2V5c0-1.1-.9-2-2-2zM9 17H7v-7h2v7zm4 0h-2V7h2v10zm4 0h-2v-4h2v4z\"/>\n",
              "    </g>\n",
              "</svg>\n",
              "      </button>\n",
              "\n",
              "<style>\n",
              "  .colab-df-quickchart {\n",
              "      --bg-color: #E8F0FE;\n",
              "      --fill-color: #1967D2;\n",
              "      --hover-bg-color: #E2EBFA;\n",
              "      --hover-fill-color: #174EA6;\n",
              "      --disabled-fill-color: #AAA;\n",
              "      --disabled-bg-color: #DDD;\n",
              "  }\n",
              "\n",
              "  [theme=dark] .colab-df-quickchart {\n",
              "      --bg-color: #3B4455;\n",
              "      --fill-color: #D2E3FC;\n",
              "      --hover-bg-color: #434B5C;\n",
              "      --hover-fill-color: #FFFFFF;\n",
              "      --disabled-bg-color: #3B4455;\n",
              "      --disabled-fill-color: #666;\n",
              "  }\n",
              "\n",
              "  .colab-df-quickchart {\n",
              "    background-color: var(--bg-color);\n",
              "    border: none;\n",
              "    border-radius: 50%;\n",
              "    cursor: pointer;\n",
              "    display: none;\n",
              "    fill: var(--fill-color);\n",
              "    height: 32px;\n",
              "    padding: 0;\n",
              "    width: 32px;\n",
              "  }\n",
              "\n",
              "  .colab-df-quickchart:hover {\n",
              "    background-color: var(--hover-bg-color);\n",
              "    box-shadow: 0 1px 2px rgba(60, 64, 67, 0.3), 0 1px 3px 1px rgba(60, 64, 67, 0.15);\n",
              "    fill: var(--button-hover-fill-color);\n",
              "  }\n",
              "\n",
              "  .colab-df-quickchart-complete:disabled,\n",
              "  .colab-df-quickchart-complete:disabled:hover {\n",
              "    background-color: var(--disabled-bg-color);\n",
              "    fill: var(--disabled-fill-color);\n",
              "    box-shadow: none;\n",
              "  }\n",
              "\n",
              "  .colab-df-spinner {\n",
              "    border: 2px solid var(--fill-color);\n",
              "    border-color: transparent;\n",
              "    border-bottom-color: var(--fill-color);\n",
              "    animation:\n",
              "      spin 1s steps(1) infinite;\n",
              "  }\n",
              "\n",
              "  @keyframes spin {\n",
              "    0% {\n",
              "      border-color: transparent;\n",
              "      border-bottom-color: var(--fill-color);\n",
              "      border-left-color: var(--fill-color);\n",
              "    }\n",
              "    20% {\n",
              "      border-color: transparent;\n",
              "      border-left-color: var(--fill-color);\n",
              "      border-top-color: var(--fill-color);\n",
              "    }\n",
              "    30% {\n",
              "      border-color: transparent;\n",
              "      border-left-color: var(--fill-color);\n",
              "      border-top-color: var(--fill-color);\n",
              "      border-right-color: var(--fill-color);\n",
              "    }\n",
              "    40% {\n",
              "      border-color: transparent;\n",
              "      border-right-color: var(--fill-color);\n",
              "      border-top-color: var(--fill-color);\n",
              "    }\n",
              "    60% {\n",
              "      border-color: transparent;\n",
              "      border-right-color: var(--fill-color);\n",
              "    }\n",
              "    80% {\n",
              "      border-color: transparent;\n",
              "      border-right-color: var(--fill-color);\n",
              "      border-bottom-color: var(--fill-color);\n",
              "    }\n",
              "    90% {\n",
              "      border-color: transparent;\n",
              "      border-bottom-color: var(--fill-color);\n",
              "    }\n",
              "  }\n",
              "</style>\n",
              "\n",
              "      <script>\n",
              "        async function quickchart(key) {\n",
              "          const quickchartButtonEl =\n",
              "            document.querySelector('#' + key + ' button');\n",
              "          quickchartButtonEl.disabled = true;  // To prevent multiple clicks.\n",
              "          quickchartButtonEl.classList.add('colab-df-spinner');\n",
              "          try {\n",
              "            const charts = await google.colab.kernel.invokeFunction(\n",
              "                'suggestCharts', [key], {});\n",
              "          } catch (error) {\n",
              "            console.error('Error during call to suggestCharts:', error);\n",
              "          }\n",
              "          quickchartButtonEl.classList.remove('colab-df-spinner');\n",
              "          quickchartButtonEl.classList.add('colab-df-quickchart-complete');\n",
              "        }\n",
              "        (() => {\n",
              "          let quickchartButtonEl =\n",
              "            document.querySelector('#df-f9192a99-f752-411e-b78d-8ddc2902e8f9 button');\n",
              "          quickchartButtonEl.style.display =\n",
              "            google.colab.kernel.accessAllowed ? 'block' : 'none';\n",
              "        })();\n",
              "      </script>\n",
              "    </div>\n",
              "\n",
              "  <div id=\"id_a8d81178-8b9e-43be-8872-3eb5b257b682\">\n",
              "    <style>\n",
              "      .colab-df-generate {\n",
              "        background-color: #E8F0FE;\n",
              "        border: none;\n",
              "        border-radius: 50%;\n",
              "        cursor: pointer;\n",
              "        display: none;\n",
              "        fill: #1967D2;\n",
              "        height: 32px;\n",
              "        padding: 0 0 0 0;\n",
              "        width: 32px;\n",
              "      }\n",
              "\n",
              "      .colab-df-generate:hover {\n",
              "        background-color: #E2EBFA;\n",
              "        box-shadow: 0px 1px 2px rgba(60, 64, 67, 0.3), 0px 1px 3px 1px rgba(60, 64, 67, 0.15);\n",
              "        fill: #174EA6;\n",
              "      }\n",
              "\n",
              "      [theme=dark] .colab-df-generate {\n",
              "        background-color: #3B4455;\n",
              "        fill: #D2E3FC;\n",
              "      }\n",
              "\n",
              "      [theme=dark] .colab-df-generate:hover {\n",
              "        background-color: #434B5C;\n",
              "        box-shadow: 0px 1px 3px 1px rgba(0, 0, 0, 0.15);\n",
              "        filter: drop-shadow(0px 1px 2px rgba(0, 0, 0, 0.3));\n",
              "        fill: #FFFFFF;\n",
              "      }\n",
              "    </style>\n",
              "    <button class=\"colab-df-generate\" onclick=\"generateWithVariable('cv_for_diff_degrees_hp_df')\"\n",
              "            title=\"Generate code using this dataframe.\"\n",
              "            style=\"display:none;\">\n",
              "\n",
              "  <svg xmlns=\"http://www.w3.org/2000/svg\" height=\"24px\"viewBox=\"0 0 24 24\"\n",
              "       width=\"24px\">\n",
              "    <path d=\"M7,19H8.4L18.45,9,17,7.55,7,17.6ZM5,21V16.75L18.45,3.32a2,2,0,0,1,2.83,0l1.4,1.43a1.91,1.91,0,0,1,.58,1.4,1.91,1.91,0,0,1-.58,1.4L9.25,21ZM18.45,9,17,7.55Zm-12,3A5.31,5.31,0,0,0,4.9,8.1,5.31,5.31,0,0,0,1,6.5,5.31,5.31,0,0,0,4.9,4.9,5.31,5.31,0,0,0,6.5,1,5.31,5.31,0,0,0,8.1,4.9,5.31,5.31,0,0,0,12,6.5,5.46,5.46,0,0,0,6.5,12Z\"/>\n",
              "  </svg>\n",
              "    </button>\n",
              "    <script>\n",
              "      (() => {\n",
              "      const buttonEl =\n",
              "        document.querySelector('#id_a8d81178-8b9e-43be-8872-3eb5b257b682 button.colab-df-generate');\n",
              "      buttonEl.style.display =\n",
              "        google.colab.kernel.accessAllowed ? 'block' : 'none';\n",
              "\n",
              "      buttonEl.onclick = () => {\n",
              "        google.colab.notebook.generateWithVariable('cv_for_diff_degrees_hp_df');\n",
              "      }\n",
              "      })();\n",
              "    </script>\n",
              "  </div>\n",
              "\n",
              "    </div>\n",
              "  </div>\n"
            ],
            "application/vnd.google.colaboratory.intrinsic+json": {
              "type": "dataframe",
              "variable_name": "cv_for_diff_degrees_hp_df",
              "summary": "{\n  \"name\": \"cv_for_diff_degrees_hp_df\",\n  \"rows\": 3,\n  \"fields\": [\n    {\n      \"column\": \"Degree_Poly\",\n      \"properties\": {\n        \"dtype\": \"date\",\n        \"min\": 2,\n        \"max\": 4,\n        \"num_unique_values\": 3,\n        \"samples\": [\n          2,\n          3,\n          4\n        ],\n        \"semantic_type\": \"\",\n        \"description\": \"\"\n      }\n    },\n    {\n      \"column\": \"Mean_CV_MSE\",\n      \"properties\": {\n        \"dtype\": \"number\",\n        \"std\": 0.3288363321370277,\n        \"min\": 18.81,\n        \"max\": 19.43,\n        \"num_unique_values\": 3,\n        \"samples\": [\n          18.81,\n          18.93,\n          19.43\n        ],\n        \"semantic_type\": \"\",\n        \"description\": \"\"\n      }\n    },\n    {\n      \"column\": \"Pct_change_from_previous\",\n      \"properties\": {\n        \"dtype\": \"number\",\n        \"std\": 1.4142135623730951,\n        \"min\": 0.64,\n        \"max\": 2.64,\n        \"num_unique_values\": 2,\n        \"samples\": [\n          2.64,\n          0.64\n        ],\n        \"semantic_type\": \"\",\n        \"description\": \"\"\n      }\n    }\n  ]\n}"
            }
          },
          "metadata": {},
          "execution_count": 23
        }
      ]
    },
    {
      "cell_type": "markdown",
      "source": [
        "The second-degree polynomial is the best option to use when fitting a polynomial with 'horsepower' as the predictor. This is as performance worsens beyond this point, indicated by the Mean CV MSE."
      ],
      "metadata": {
        "id": "3tJ29twIwKtJ"
      }
    },
    {
      "cell_type": "markdown",
      "source": [
        "____________________________________________________________________________________________________________________________________________________________________"
      ],
      "metadata": {
        "id": "f-F44ty5PAlt"
      }
    },
    {
      "cell_type": "markdown",
      "source": [
        "**b)** Using the training data, fit a polynomial equation with the degree selected in part (a)."
      ],
      "metadata": {
        "id": "qEDMlnrziRev"
      }
    },
    {
      "cell_type": "code",
      "source": [
        "# Add as many code chunks as needed to complete work"
      ],
      "metadata": {
        "id": "W4FCw9k6iui4"
      },
      "execution_count": null,
      "outputs": []
    },
    {
      "cell_type": "code",
      "source": [
        "poly_2_hp_pipeline = Pipeline([ ('scaler', StandardScaler()),('poly_features', PolynomialFeatures(degree= 2)) ])"
      ],
      "metadata": {
        "id": "b_OYj2E7_3cI"
      },
      "execution_count": null,
      "outputs": []
    },
    {
      "cell_type": "code",
      "source": [
        "X_poly_hp_train = poly_2_hp_pipeline.fit_transform(X_train_auto['horsepower'].values.reshape(-1, 1))"
      ],
      "metadata": {
        "id": "obU0rCyA_3XJ"
      },
      "execution_count": null,
      "outputs": []
    },
    {
      "cell_type": "code",
      "source": [
        "reg_out_poly2_hp_train = LinearRegression().fit(X_poly_hp_train, y_train_auto)"
      ],
      "metadata": {
        "id": "BhsnVSg5_3Tt"
      },
      "execution_count": null,
      "outputs": []
    },
    {
      "cell_type": "markdown",
      "source": [
        "Coefficients of the second degree poly for horsepower\n"
      ],
      "metadata": {
        "id": "CDZNtfHJzd0p"
      }
    },
    {
      "cell_type": "code",
      "source": [
        "# Intercept\n",
        "print ( reg_out_poly2_hp_train.intercept_)"
      ],
      "metadata": {
        "colab": {
          "base_uri": "https://localhost:8080/"
        },
        "id": "zXD3VxXGzN9C",
        "outputId": "4d8fe1b6-c20c-45e5-a64f-2b090df78a60"
      },
      "execution_count": null,
      "outputs": [
        {
          "output_type": "stream",
          "name": "stdout",
          "text": [
            "21.723598005694893\n"
          ]
        }
      ]
    },
    {
      "cell_type": "code",
      "source": [
        "# Coefficients\n",
        "print ( reg_out_poly2_hp_train.coef_)"
      ],
      "metadata": {
        "colab": {
          "base_uri": "https://localhost:8080/"
        },
        "id": "Y10afdMNzN2q",
        "outputId": "43114b88-33b5-4888-a6b8-d5c8d7a02e1e"
      },
      "execution_count": null,
      "outputs": [
        {
          "output_type": "stream",
          "name": "stdout",
          "text": [
            "[ 0.         -7.82522286  1.68055535]\n"
          ]
        }
      ]
    },
    {
      "cell_type": "markdown",
      "source": [
        "#Equation\n",
        "Predicted Horsepower = 21.72 - 7.82 * (standardized horsepower) + 1.68 * (standardized horsepower squared)"
      ],
      "metadata": {
        "id": "jGJEC-bx1XZJ"
      }
    },
    {
      "cell_type": "markdown",
      "source": [
        "____________________________________________________________________________________________________________________________________________________________________"
      ],
      "metadata": {
        "id": "o96d6RHzPJHV"
      }
    },
    {
      "cell_type": "markdown",
      "source": [
        "**c)** Estimating the test MSE of the equation fit in part (b)."
      ],
      "metadata": {
        "id": "G8i_oOmVi9bv"
      }
    },
    {
      "cell_type": "code",
      "source": [
        "X_poly_hp_test = poly_2_hp_pipeline.transform(X_test_auto['horsepower'].values.reshape(-1, 1))"
      ],
      "metadata": {
        "id": "JnPqwhL2_4Q5"
      },
      "execution_count": null,
      "outputs": []
    },
    {
      "cell_type": "code",
      "source": [
        "y_pred_poly2_hp_test = reg_out_poly2_hp_train.predict(X_poly_hp_test)"
      ],
      "metadata": {
        "id": "vFrWNu0e_4OB"
      },
      "execution_count": null,
      "outputs": []
    },
    {
      "cell_type": "code",
      "source": [
        "# Test root MSE\n",
        "root_mean_squared_error(y_test_auto, y_pred_poly2_hp_test)"
      ],
      "metadata": {
        "colab": {
          "base_uri": "https://localhost:8080/"
        },
        "id": "B-Sc7igL_4Kr",
        "outputId": "ae2c7628-4a02-4d1d-eff4-c670f85fc5f4"
      },
      "execution_count": null,
      "outputs": [
        {
          "output_type": "execute_result",
          "data": {
            "text/plain": [
              "4.625642193019177"
            ]
          },
          "metadata": {},
          "execution_count": 36
        }
      ]
    },
    {
      "cell_type": "code",
      "source": [
        "# Coefficient of variation to assess how good (low) the root MSE is.\n",
        "print (root_mean_squared_error(y_test_auto, y_pred_poly2_hp_test)/ np.mean(y_auto)*100)"
      ],
      "metadata": {
        "colab": {
          "base_uri": "https://localhost:8080/"
        },
        "id": "gKt0NM74_4HT",
        "outputId": "c42c5d02-b474-457e-c5e7-5732f2312246"
      },
      "execution_count": null,
      "outputs": [
        {
          "output_type": "stream",
          "name": "stdout",
          "text": [
            "19.72898702684769\n"
          ]
        }
      ]
    },
    {
      "cell_type": "markdown",
      "source": [
        "____________________________________________________________________________________________________________________________________________________________________"
      ],
      "metadata": {
        "id": "PrdsYWtdPKhe"
      }
    },
    {
      "cell_type": "markdown",
      "source": [
        "#Conclusion\n",
        "\n",
        "Polynomial regression revealed a nonlinear relationship between horsepower and fuel efficiency. Cross-validation identified the quadratic (degree 2) model as the most reliable, while higher-degree polynomials provided no real gain and risked overfitting. The final model explained mpg with an interpretable quadratic curve, achieving a test RMSE of about 4.6 (≈20% of mean mpg). This confirms that a simple nonlinear adjustment captures most of the pattern: mpg decreases as horsepower rises, but the rate of decrease flattens for high horsepower vehicles. The project highlights how polynomial regression can uncover meaningful nonlinear trends while maintaining interpretability."
      ],
      "metadata": {
        "id": "ltBZbIMCLLku"
      }
    }
  ]
}